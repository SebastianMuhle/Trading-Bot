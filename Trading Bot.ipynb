{
 "cells": [
  {
   "cell_type": "markdown",
   "metadata": {},
   "source": [
    "# Trading Bot\n",
    "\n",
    "Welcome to our trading bot for Dow Jones stocks. This bot helps you to earn a lot of money.  \n",
    "Just follow the instructions. "
   ]
  },
  {
   "cell_type": "markdown",
   "metadata": {},
   "source": [
    "### Before we can start, we first have to import a few libraries"
   ]
  },
  {
   "cell_type": "code",
   "execution_count": 1,
   "metadata": {},
   "outputs": [
    {
     "name": "stderr",
     "output_type": "stream",
     "text": [
      "Using TensorFlow backend.\n"
     ]
    }
   ],
   "source": [
    "from __future__ import print_function\n",
    "from ipywidgets import interact, interactive, fixed, interact_manual\n",
    "import ipywidgets as widgets\n",
    "from own_jupyter_controls import dropdown_widget, generate_file_path_for_stock_data, network_architecture_widget\n",
    "from stock_pred import train_bot\n",
    "from trading import trading\n",
    "import matplotlib.pyplot as plt"
   ]
  },
  {
   "cell_type": "markdown",
   "metadata": {},
   "source": [
    "## Selecting stock\n",
    "Please select the ticker symbol of the Dow Jones stock your interested in.\n",
    "First run the cell. Then select the ticker symbol from the dropdown-menu, then run the next Cell."
   ]
  },
  {
   "cell_type": "code",
   "execution_count": 2,
   "metadata": {},
   "outputs": [
    {
     "data": {
      "application/vnd.jupyter.widget-view+json": {
       "model_id": "a8fa8db27a2c400982c7f8d8a9e5a917",
       "version_major": 2,
       "version_minor": 0
      },
      "text/plain": [
       "interactive(children=(Dropdown(description='Symbol', options=('MMM', 'AXP', 'AAPL', 'BA', 'CAT', 'CVX', 'CSCO'…"
      ]
     },
     "metadata": {},
     "output_type": "display_data"
    }
   ],
   "source": [
    "widget = dropdown_widget()\n",
    "display(widget)"
   ]
  },
  {
   "cell_type": "code",
   "execution_count": 3,
   "metadata": {},
   "outputs": [
    {
     "name": "stdout",
     "output_type": "stream",
     "text": [
      "The file path to your data is 'data/daily_MSFT.csv'\n"
     ]
    }
   ],
   "source": [
    "file_path = generate_file_path_for_stock_data(widget.kwargs['x'])\n",
    "print(\"The file path to your data is '\" + file_path + \"'\")"
   ]
  },
  {
   "cell_type": "markdown",
   "metadata": {},
   "source": [
    "## Predicting stock\n",
    "Next we train a neural network to learn to predict the course development of our selected stock. \n",
    "<br>\n",
    "<br>\n",
    "But first we have to select the hyperparameters of our network!  "
   ]
  },
  {
   "cell_type": "code",
   "execution_count": 10,
   "metadata": {},
   "outputs": [],
   "source": [
    "# Network hyperparameters\n",
    "two_lstm_layers=False\n",
    "number_of_neurons_lstm=50\n",
    "two_layers_second_branch=True\n",
    "number_of_neurons_second_branch=20\n",
    "dropout_rate=0.2\n",
    "\n",
    "# Feature parameters\n",
    "history_points = 50\n",
    "\n",
    "# Training parameters\n",
    "number_of_epochs = 2"
   ]
  },
  {
   "cell_type": "code",
   "execution_count": 11,
   "metadata": {},
   "outputs": [
    {
     "name": "stdout",
     "output_type": "stream",
     "text": [
      "Start csv_to_dataset\n",
      "    timestamp    open    high     low   close    volume\n",
      "0  2019-10-31  144.90  144.93  142.99  143.37  24489475\n",
      "1  2019-10-30  143.52  145.00  142.79  144.61  18471700\n",
      "2  2019-10-29  144.08  144.50  142.65  142.83  20519700\n",
      "3  2019-10-28  144.40  145.67  143.51  144.19  35243000\n",
      "4  2019-10-25  139.34  141.14  139.20  140.73  25274600\n",
      "(5033, 6)\n",
      "    timestamp  change_S&P500\n",
      "1  1990-10-29      -1.750660\n",
      "2  1990-10-30      -0.938500\n",
      "3  1990-10-31       0.722139\n",
      "4  1990-11-01      -0.023024\n",
      "5  1990-11-02       0.996743\n",
      "Before reordering\n",
      "    timestamp    open    high     low   close    volume\n",
      "0  2019-10-31  144.90  144.93  142.99  143.37  24489475\n",
      "1  2019-10-30  143.52  145.00  142.79  144.61  18471700\n",
      "2  2019-10-29  144.08  144.50  142.65  142.83  20519700\n",
      "3  2019-10-28  144.40  145.67  143.51  144.19  35243000\n",
      "4  2019-10-25  139.34  141.14  139.20  140.73  25274600\n",
      "(5033, 6)\n",
      "After reordering\n",
      "       timestamp    open    high     low   close    volume\n",
      "5032  1999-11-01  93.250  94.188  92.125  92.375  53261200\n",
      "5031  1999-11-02  92.750  94.500  91.938  92.563  46349000\n",
      "5030  1999-11-03  92.938  93.500  91.500  92.000  44517000\n",
      "5029  1999-11-04  92.313  92.750  90.313  91.750  54239400\n",
      "5028  1999-11-05  91.813  92.875  90.500  91.563  70167400\n",
      "Length data normalised 5032\n",
      "Shape ohlcv (4982, 50, 5)\n",
      "Train on 4034 samples, validate on 449 samples\n",
      "Epoch 1/2\n",
      " - 7s - loss: 0.7391 - val_loss: 0.0151\n",
      "Epoch 2/2\n",
      " - 5s - loss: 0.0138 - val_loss: 0.0065\n",
      "1965.2688181133158\n",
      "Finished training\n"
     ]
    }
   ],
   "source": [
    "error, values_original, values_predicted, ohlcv_test, tech_ind_test, model, y_normaliser = train_bot(file_path=file_path, \n",
    "                                                                                                     history_points=history_points, \n",
    "                                                                                                     number_of_epochs=number_of_epochs, \n",
    "                                                                                                     two_lstm_layers=two_lstm_layers, \n",
    "                                                                                                     number_of_neurons_lstm=number_of_neurons_lstm,\n",
    "                                                                                                     two_layers_second_branch=two_layers_second_branch, \n",
    "                                                                                                     number_of_neurons_second_branch=number_of_neurons_second_branch, \n",
    "                                                                                                     dropout_rate=dropout_rate)"
   ]
  },
  {
   "cell_type": "markdown",
   "metadata": {},
   "source": [
    "### The error of our network"
   ]
  },
  {
   "cell_type": "code",
   "execution_count": null,
   "metadata": {},
   "outputs": [],
   "source": [
    "print(\"The Mean-squared error of our network on the test set is \" + \"{:10.3f}\".format(error))"
   ]
  },
  {
   "cell_type": "markdown",
   "metadata": {},
   "source": [
    "#### Plot of our network's performance on the test set"
   ]
  },
  {
   "cell_type": "code",
   "execution_count": null,
   "metadata": {},
   "outputs": [],
   "source": [
    "plt.gcf().set_size_inches(22, 15, forward=True)\n",
    "real = plt.plot(values_original, label='real')\n",
    "pred = plt.plot(values_predicted, label='predicted')\n",
    "plt.legend(['Real', 'Predicted'])\n",
    "# Delete the comment to save the plot\n",
    "save_string = str(widget.kwargs['x']) + '.png'\n",
    "plt.savefig(save_string)\n",
    "plt.show()"
   ]
  },
  {
   "cell_type": "markdown",
   "metadata": {},
   "source": [
    "## Trading stock\n",
    "With the predictions working we can trade stock. Let's see how our bot would have performed on the test set when trading stock."
   ]
  },
  {
   "cell_type": "code",
   "execution_count": null,
   "metadata": {},
   "outputs": [],
   "source": [
    "buys, sells = trading(ohlcv_test, tech_ind_test, y_normaliser, model)"
   ]
  },
  {
   "cell_type": "markdown",
   "metadata": {},
   "source": [
    "#### Let's plot our bot's trading patterns"
   ]
  },
  {
   "cell_type": "code",
   "execution_count": null,
   "metadata": {},
   "outputs": [],
   "source": [
    "plt.gcf().set_size_inches(22, 15, forward=True)\n",
    "real = plt.plot(values_original, label='real')\n",
    "pred = plt.plot(values_predicted, label='predicted')\n",
    "if len(buys) > 0:\n",
    "    plt.scatter(list(list(zip(*buys))[0]), list(list(zip(*buys))[1]), c='#00ff00', s=50)\n",
    "if len(sells) > 0:\n",
    "    plt.scatter(list(list(zip(*sells))[0]), list(list(zip(*sells))[1]), c='#ff0000', s=50)\n",
    "# real = plt.plot(unscaled_y[start:end], label='real')\n",
    "# pred = plt.plot(y_predicted[start:end], label='predicted')\n",
    "plt.legend(['Real', 'Predicted', 'Buy', 'Sell'])\n",
    "# Delete the comment to save the plot\n",
    "save_string = str(widget.kwargs['x']) + '.png'\n",
    "plt.savefig(save_string)\n",
    "plt.show()"
   ]
  },
  {
   "cell_type": "code",
   "execution_count": null,
   "metadata": {},
   "outputs": [],
   "source": []
  }
 ],
 "metadata": {
  "kernelspec": {
   "display_name": "Python 3",
   "language": "python",
   "name": "python3"
  },
  "language_info": {
   "codemirror_mode": {
    "name": "ipython",
    "version": 3
   },
   "file_extension": ".py",
   "mimetype": "text/x-python",
   "name": "python",
   "nbconvert_exporter": "python",
   "pygments_lexer": "ipython3",
   "version": "3.7.3"
  }
 },
 "nbformat": 4,
 "nbformat_minor": 2
}
