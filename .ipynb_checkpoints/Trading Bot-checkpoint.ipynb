{
 "cells": [
  {
   "cell_type": "markdown",
   "metadata": {},
   "source": [
    "# Trading Bot\n",
    "\n",
    "Welcome to our trading bot for Dow Jones stocks. This bot helps you to earn a lot of money.  \n",
    "Just follow the instructions. "
   ]
  },
  {
   "cell_type": "markdown",
   "metadata": {},
   "source": [
    "### Before we can start, we first have to import a few libraries"
   ]
  },
  {
   "cell_type": "code",
   "execution_count": 2,
   "metadata": {},
   "outputs": [],
   "source": [
    "from __future__ import print_function\n",
    "from ipywidgets import interact, interactive, fixed, interact_manual\n",
    "import ipywidgets as widgets\n",
    "from own_jupyter_controls import dropdown_widget, generate_file_path_for_stock_data, network_architecture_widget\n",
    "from stock_pred import train_bot\n",
    "from trading import trading\n",
    "import matplotlib.pyplot as plt"
   ]
  },
  {
   "cell_type": "markdown",
   "metadata": {},
   "source": [
    "## Selecting stock\n",
    "Please select the ticker symbol of the Dow Jones stock your interested in.\n",
    "First run the cell. Then select the ticker symbol from the dropdown-menu, then run the next Cell."
   ]
  },
  {
   "cell_type": "code",
   "execution_count": 3,
   "metadata": {},
   "outputs": [
    {
     "data": {
      "application/vnd.jupyter.widget-view+json": {
       "model_id": "bad764746aad48e8ab8a144e4eb1c408",
       "version_major": 2,
       "version_minor": 0
      },
      "text/plain": [
       "interactive(children=(Dropdown(description='Symbol', options=('MMM', 'AXP', 'AAPL', 'BA', 'CAT', 'CVX', 'CSCO'…"
      ]
     },
     "metadata": {},
     "output_type": "display_data"
    }
   ],
   "source": [
    "widget = dropdown_widget()\n",
    "display(widget)"
   ]
  },
  {
   "cell_type": "code",
   "execution_count": 4,
   "metadata": {},
   "outputs": [
    {
     "name": "stdout",
     "output_type": "stream",
     "text": [
      "The file path to your data is 'data/daily_MSFT.csv'\n"
     ]
    }
   ],
   "source": [
    "file_path = generate_file_path_for_stock_data(widget.kwargs['x'])\n",
    "print(\"The file path to your data is '\" + file_path + \"'\")"
   ]
  },
  {
   "cell_type": "markdown",
   "metadata": {},
   "source": [
    "## Predicting stock\n",
    "Next we train a neural network to learn to predict the course development of our selected stock. \n",
    "<br>\n",
    "<br>\n",
    "But first we have to select the hyperparameters of our network!  "
   ]
  },
  {
   "cell_type": "code",
   "execution_count": 5,
   "metadata": {},
   "outputs": [],
   "source": [
    "# Network hyperparameters\n",
    "two_lstm_layers=False\n",
    "number_of_neurons_lstm=50\n",
    "two_layers_second_branch=False\n",
    "number_of_neurons_second_branch=20\n",
    "dropout_rate=0.2\n",
    "\n",
    "# Feature parameters\n",
    "history_points = 50 # Do not set below 50\n",
    "s_and_p_500 = True # TODO Currently not change from false\n",
    "ma7 = True\n",
    "ma21 = True \n",
    "ma_his_window = True\n",
    "ema12 = True \n",
    "ema26 = True \n",
    "mac = True \n",
    "ten_day_momentum = True\n",
    "upper_bands = True \n",
    "lower_bands = True\n",
    "volatilty_index_feature = True\n",
    "\n",
    "# Training parameters\n",
    "number_of_epochs = 1"
   ]
  },
  {
   "cell_type": "code",
   "execution_count": 6,
   "metadata": {},
   "outputs": [
    {
     "name": "stdout",
     "output_type": "stream",
     "text": [
      "Start csv_to_dataset\n",
      "    timestamp    open    high     low   close    volume\n",
      "0  2019-10-31  144.90  144.93  142.99  143.37  24489475\n",
      "1  2019-10-30  143.52  145.00  142.79  144.61  18471700\n",
      "2  2019-10-29  144.08  144.50  142.65  142.83  20519700\n",
      "3  2019-10-28  144.40  145.67  143.51  144.19  35243000\n",
      "4  2019-10-25  139.34  141.14  139.20  140.73  25274600\n",
      "(5033, 6)\n",
      "    timestamp  change_S&P500\n",
      "1  1990-10-29      -1.750660\n",
      "2  1990-10-30      -0.938500\n",
      "3  1990-10-31       0.722139\n",
      "4  1990-11-01      -0.023024\n",
      "5  1990-11-02       0.996743\n",
      "Before reordering\n",
      "    timestamp    open    high     low   close    volume  change_S&P500\n",
      "0  2019-10-25  139.34  141.14  139.20  140.73  25274600      -0.380126\n",
      "1  2019-10-24  139.39  140.42  138.67  139.94  37029300       0.693719\n",
      "2  2019-10-23  136.88  137.45  135.61  137.24  29844600      -0.555346\n",
      "3  2019-10-22  138.97  140.01  136.26  136.37  27431000       0.475558\n",
      "4  2019-10-21  138.45  138.50  137.01  138.43  20078200      -0.012016\n",
      "(5029, 7)\n",
      "After reordering\n",
      "       timestamp    open    high     low   close    volume  change_S&P500\n",
      "5028  1999-11-01  93.250  94.188  92.125  92.375  53261200       1.526334\n",
      "5027  1999-11-02  92.750  94.500  91.938  92.563  46349000      -0.646406\n",
      "5026  1999-11-03  92.938  93.500  91.500  92.000  44517000      -0.471155\n",
      "5025  1999-11-04  92.313  92.750  90.313  91.750  54239400       0.533490\n",
      "5024  1999-11-05  91.813  92.875  90.500  91.563  70167400       0.569030\n",
      "Length data normalised 5028\n",
      "Shape ohlcv (4978, 50, 6)\n",
      "Train on 4032 samples, validate on 448 samples\n",
      "Epoch 1/1\n",
      " - 5s - loss: 0.2987 - val_loss: 0.0135\n",
      "3741.019278651705\n",
      "Finished training\n"
     ]
    }
   ],
   "source": [
    "error, values_original, values_predicted, ohlcv_test, tech_ind_test, model, y_normaliser = train_bot(file_path=file_path, \n",
    "                                                                                                     history_points=history_points, \n",
    "                                                                                                     number_of_epochs=number_of_epochs, \n",
    "                                                                                                     two_lstm_layers=two_lstm_layers, \n",
    "                                                                                                     number_of_neurons_lstm=number_of_neurons_lstm,\n",
    "                                                                                                     two_layers_second_branch=two_layers_second_branch, \n",
    "                                                                                                     number_of_neurons_second_branch=number_of_neurons_second_branch, \n",
    "                                                                                                     dropout_rate=dropout_rate, \n",
    "                                                                                                     s_and_p_500=s_and_p_500, \n",
    "                                                                                                     ma7=ma7, \n",
    "                                                                                                     ma21=ma21, \n",
    "                                                                                                     ma_his_window=ma_his_window, \n",
    "                                                                                                     ema12=ema12, \n",
    "                                                                                                     ema26=ema26, \n",
    "                                                                                                     mac=mac, \n",
    "                                                                                                     ten_day_momentum=ten_day_momentum,\n",
    "                                                                                                     upper_bands=upper_bands, \n",
    "                                                                                                     lower_bands=lower_bands,\n",
    "                                                                                                     volatilty_index_feature=volatilty_index_feature)"
   ]
  },
  {
   "cell_type": "markdown",
   "metadata": {},
   "source": [
    "### The error of our network"
   ]
  },
  {
   "cell_type": "code",
   "execution_count": null,
   "metadata": {},
   "outputs": [],
   "source": [
    "print(\"The Mean-squared error of our network on the test set is \" + \"{:10.3f}\".format(error))"
   ]
  },
  {
   "cell_type": "markdown",
   "metadata": {},
   "source": [
    "#### Plot of our network's performance on the test set"
   ]
  },
  {
   "cell_type": "code",
   "execution_count": null,
   "metadata": {},
   "outputs": [],
   "source": [
    "plt.gcf().set_size_inches(22, 15, forward=True)\n",
    "real = plt.plot(values_original, label='real')\n",
    "pred = plt.plot(values_predicted, label='predicted')\n",
    "plt.legend(['Real', 'Predicted'])\n",
    "# Delete the comment to save the plot\n",
    "save_string = str(widget.kwargs['x']) + '.png'\n",
    "plt.savefig(save_string)\n",
    "plt.show()"
   ]
  },
  {
   "cell_type": "markdown",
   "metadata": {},
   "source": [
    "## Trading stock\n",
    "With the predictions working we can trade stock. Let's see how our bot would have performed on the test set when trading stock."
   ]
  },
  {
   "cell_type": "code",
   "execution_count": null,
   "metadata": {},
   "outputs": [],
   "source": [
    "buys, sells = trading(ohlcv_test, tech_ind_test, y_normaliser, model)"
   ]
  },
  {
   "cell_type": "markdown",
   "metadata": {},
   "source": [
    "#### Let's plot our bot's trading patterns"
   ]
  },
  {
   "cell_type": "code",
   "execution_count": null,
   "metadata": {},
   "outputs": [],
   "source": [
    "plt.gcf().set_size_inches(22, 15, forward=True)\n",
    "real = plt.plot(values_original, label='real')\n",
    "pred = plt.plot(values_predicted, label='predicted')\n",
    "if len(buys) > 0:\n",
    "    plt.scatter(list(list(zip(*buys))[0]), list(list(zip(*buys))[1]), c='#00ff00', s=50)\n",
    "if len(sells) > 0:\n",
    "    plt.scatter(list(list(zip(*sells))[0]), list(list(zip(*sells))[1]), c='#ff0000', s=50)\n",
    "# real = plt.plot(unscaled_y[start:end], label='real')\n",
    "# pred = plt.plot(y_predicted[start:end], label='predicted')\n",
    "plt.legend(['Real', 'Predicted', 'Buy', 'Sell'])\n",
    "# Delete the comment to save the plot\n",
    "save_string = str(widget.kwargs['x']) + '.png'\n",
    "plt.savefig(save_string)\n",
    "plt.show()"
   ]
  },
  {
   "cell_type": "code",
   "execution_count": null,
   "metadata": {},
   "outputs": [],
   "source": [
    "import numpy as np\n",
    "arr = np.array([[1,2,3,4], [5,6,7,8], [9,10,11,12]])\n",
    "eins = True\n",
    "zwei = False\n",
    "drei = True\n",
    "vier = False\n",
    "delete = []\n",
    "if eins:\n",
    "    delete.append(0)\n",
    "if zwei:\n",
    "    delete.append(1)\n",
    "if drei:\n",
    "    delete.append(2)\n",
    "if vier:\n",
    "    delete.append(3)\n",
    "np.delete(arr, delete, 1)"
   ]
  },
  {
   "cell_type": "code",
   "execution_count": null,
   "metadata": {},
   "outputs": [],
   "source": []
  }
 ],
 "metadata": {
  "kernelspec": {
   "display_name": "Python 3",
   "language": "python",
   "name": "python3"
  },
  "language_info": {
   "codemirror_mode": {
    "name": "ipython",
    "version": 3
   },
   "file_extension": ".py",
   "mimetype": "text/x-python",
   "name": "python",
   "nbconvert_exporter": "python",
   "pygments_lexer": "ipython3",
   "version": "3.7.3"
  }
 },
 "nbformat": 4,
 "nbformat_minor": 2
}
